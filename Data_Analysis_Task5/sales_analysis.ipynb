{
 "cells": [
  {
   "cell_type": "markdown",
   "id": "72d482e6",
   "metadata": {},
   "source": [
    "# Sales Data Analysis\n",
    "\n",
    "This notebook demonstrates basic data analysis on sales CSV files using Pandas. We will load, explore, aggregate, and visualize sales data."
   ]
  },
  {
   "cell_type": "code",
   "execution_count": 6,
   "id": "454c9b5d",
   "metadata": {},
   "outputs": [],
   "source": [
    "# Import Required Libraries\n",
    "import pandas as pd\n",
    "import matplotlib.pyplot as plt"
   ]
  },
  {
   "cell_type": "markdown",
   "id": "528f4558",
   "metadata": {},
   "source": [
    "## Load Sales Data from CSV\n",
    "\n",
    "Load the sales data from a CSV file using pandas."
   ]
  },
  {
   "cell_type": "code",
   "execution_count": null,
   "id": "469650f9",
   "metadata": {},
   "outputs": [
    {
     "ename": "SyntaxError",
     "evalue": "(unicode error) 'unicodeescape' codec can't decode bytes in position 3-4: truncated \\UXXXXXXXX escape (680399009.py, line 2)",
     "output_type": "error",
     "traceback": [
      "\u001b[1;36m  Cell \u001b[1;32mIn[8], line 2\u001b[1;36m\u001b[0m\n\u001b[1;33m    sales_df = pd.read_csv('\"C:\\Users\\sants\\Downloads\\archive (4)\\sales_data_sample.csv\"')  # Replace with your actual CSV filename\u001b[0m\n\u001b[1;37m                                                                                         ^\u001b[0m\n\u001b[1;31mSyntaxError\u001b[0m\u001b[1;31m:\u001b[0m (unicode error) 'unicodeescape' codec can't decode bytes in position 3-4: truncated \\UXXXXXXXX escape\n"
     ]
    }
   ],
   "source": [
    "# Load sales data from CSV\n",
    "sales_df = pd.read_csv('sales_data.csv')  # Replace with your actual CSV filename\n",
    "sales_df.head()"
   ]
  },
  {
   "cell_type": "markdown",
   "id": "a97e64ef",
   "metadata": {},
   "source": [
    "## Explore Data Structure\n",
    "\n",
    "Display the first few rows, column names, and data types to understand the dataset."
   ]
  },
  {
   "cell_type": "code",
   "execution_count": null,
   "id": "5eca1013",
   "metadata": {},
   "outputs": [],
   "source": [
    "# Display first few rows\n",
    "sales_df.head()\n",
    "\n",
    "# Show column names\n",
    "print(sales_df.columns)\n",
    "\n",
    "# Show data types\n",
    "print(sales_df.dtypes)"
   ]
  },
  {
   "cell_type": "markdown",
   "id": "64e97816",
   "metadata": {},
   "source": [
    "## Group and Summarize Sales Data\n",
    "\n",
    "Aggregate sales by relevant categories using groupby() and sum()."
   ]
  },
  {
   "cell_type": "code",
   "execution_count": null,
   "id": "b539ee42",
   "metadata": {},
   "outputs": [],
   "source": [
    "# Group by product and sum sales\n",
    "sales_by_product = sales_df.groupby('Product')['Sales'].sum()\n",
    "print(sales_by_product)\n",
    "\n",
    "# Group by region and sum sales\n",
    "sales_by_region = sales_df.groupby('Region')['Sales'].sum()\n",
    "print(sales_by_region)"
   ]
  },
  {
   "cell_type": "markdown",
   "id": "3bea29a2",
   "metadata": {},
   "source": [
    "## Visualize Sales Data with Charts\n",
    "\n",
    "Create bar charts and line plots to visualize sales trends and summaries."
   ]
  },
  {
   "cell_type": "code",
   "execution_count": 5,
   "id": "449b8536",
   "metadata": {},
   "outputs": [
    {
     "ename": "NameError",
     "evalue": "name 'sales_by_product' is not defined",
     "output_type": "error",
     "traceback": [
      "\u001b[1;31m---------------------------------------------------------------------------\u001b[0m",
      "\u001b[1;31mNameError\u001b[0m                                 Traceback (most recent call last)",
      "Cell \u001b[1;32mIn[5], line 2\u001b[0m\n\u001b[0;32m      1\u001b[0m \u001b[38;5;66;03m# Bar chart for sales by product\u001b[39;00m\n\u001b[1;32m----> 2\u001b[0m \u001b[43msales_by_product\u001b[49m\u001b[38;5;241m.\u001b[39mplot(kind\u001b[38;5;241m=\u001b[39m\u001b[38;5;124m'\u001b[39m\u001b[38;5;124mbar\u001b[39m\u001b[38;5;124m'\u001b[39m, title\u001b[38;5;241m=\u001b[39m\u001b[38;5;124m'\u001b[39m\u001b[38;5;124mSales by Product\u001b[39m\u001b[38;5;124m'\u001b[39m)\n\u001b[0;32m      3\u001b[0m plt\u001b[38;5;241m.\u001b[39mylabel(\u001b[38;5;124m'\u001b[39m\u001b[38;5;124mTotal Sales\u001b[39m\u001b[38;5;124m'\u001b[39m)\n\u001b[0;32m      4\u001b[0m plt\u001b[38;5;241m.\u001b[39mshow()\n",
      "\u001b[1;31mNameError\u001b[0m: name 'sales_by_product' is not defined"
     ]
    }
   ],
   "source": [
    "# Bar chart for sales by product\n",
    "sales_by_product.plot(kind='bar', title='Sales by Product')\n",
    "plt.ylabel('Total Sales')\n",
    "plt.show()\n",
    "\n",
    "# Bar chart for sales by region\n",
    "sales_by_region.plot(kind='bar', title='Sales by Region', color='orange')\n",
    "plt.ylabel('Total Sales')\n",
    "plt.show()"
   ]
  }
 ],
 "metadata": {
  "kernelspec": {
   "display_name": "Python 3",
   "language": "python",
   "name": "python3"
  },
  "language_info": {
   "codemirror_mode": {
    "name": "ipython",
    "version": 3
   },
   "file_extension": ".py",
   "mimetype": "text/x-python",
   "name": "python",
   "nbconvert_exporter": "python",
   "pygments_lexer": "ipython3",
   "version": "3.11.9"
  }
 },
 "nbformat": 4,
 "nbformat_minor": 5
}
